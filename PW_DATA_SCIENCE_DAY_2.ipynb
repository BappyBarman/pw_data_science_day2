{
  "nbformat": 4,
  "nbformat_minor": 0,
  "metadata": {
    "colab": {
      "provenance": []
    },
    "kernelspec": {
      "name": "python3",
      "display_name": "Python 3"
    },
    "language_info": {
      "name": "python"
    }
  },
  "cells": [
    {
      "cell_type": "code",
      "execution_count": null,
      "metadata": {
        "id": "3f0svBEPhMWS"
      },
      "outputs": [],
      "source": [
        "a=10"
      ]
    },
    {
      "cell_type": "code",
      "source": [
        "a='c'"
      ],
      "metadata": {
        "id": "V_7k00jv23iU"
      },
      "execution_count": null,
      "outputs": []
    },
    {
      "cell_type": "code",
      "source": [
        "type(a)"
      ],
      "metadata": {
        "colab": {
          "base_uri": "https://localhost:8080/"
        },
        "id": "wM8pSncA25H4",
        "outputId": "287aeb8b-391c-4d11-d95c-19c2238388d2"
      },
      "execution_count": null,
      "outputs": [
        {
          "output_type": "execute_result",
          "data": {
            "text/plain": [
              "str"
            ]
          },
          "metadata": {},
          "execution_count": 3
        }
      ]
    },
    {
      "cell_type": "code",
      "source": [
        "print('Hello World')"
      ],
      "metadata": {
        "colab": {
          "base_uri": "https://localhost:8080/"
        },
        "id": "tz6OzJfv27eu",
        "outputId": "cd6b232b-3ce2-4b15-a84d-5ea906137a04"
      },
      "execution_count": null,
      "outputs": [
        {
          "output_type": "stream",
          "name": "stdout",
          "text": [
            "Hello World\n"
          ]
        }
      ]
    },
    {
      "cell_type": "code",
      "source": [
        "print(123)"
      ],
      "metadata": {
        "colab": {
          "base_uri": "https://localhost:8080/"
        },
        "id": "tbqtD5Vx3WG6",
        "outputId": "a44fc444-f47a-4802-9441-0414ed06f379"
      },
      "execution_count": null,
      "outputs": [
        {
          "output_type": "stream",
          "name": "stdout",
          "text": [
            "123\n"
          ]
        }
      ]
    },
    {
      "cell_type": "code",
      "source": [
        "age=32\n",
        "print('My age is: ',age)"
      ],
      "metadata": {
        "colab": {
          "base_uri": "https://localhost:8080/"
        },
        "id": "Ve4C_VUJ3dYq",
        "outputId": "cc85f55c-fc76-4df8-de79-1414e418d767"
      },
      "execution_count": null,
      "outputs": [
        {
          "output_type": "stream",
          "name": "stdout",
          "text": [
            "My age is:  32\n"
          ]
        }
      ]
    },
    {
      "cell_type": "code",
      "source": [
        "print(f\"My age is: {age}\")"
      ],
      "metadata": {
        "colab": {
          "base_uri": "https://localhost:8080/"
        },
        "id": "0DKl5GSs3tKQ",
        "outputId": "fd0cc128-dd98-419e-9853-d8ee1f592a8e"
      },
      "execution_count": null,
      "outputs": [
        {
          "output_type": "stream",
          "name": "stdout",
          "text": [
            "My age is: 32\n"
          ]
        }
      ]
    },
    {
      "cell_type": "code",
      "source": [
        "Name=\"Bappy\"\n",
        "Age=32\n",
        "print(\"My name is {} and age is {}\".format(Name,Age))"
      ],
      "metadata": {
        "colab": {
          "base_uri": "https://localhost:8080/"
        },
        "id": "HngELmqT4GJU",
        "outputId": "944e2b28-b7c4-425b-9497-c039d58c656f"
      },
      "execution_count": null,
      "outputs": [
        {
          "output_type": "stream",
          "name": "stdout",
          "text": [
            "My name is Bappy and age is 32\n"
          ]
        }
      ]
    },
    {
      "cell_type": "code",
      "source": [
        "print(\"My name is {firstname} and age is {finalage}\".format(firstname=Name,finalage=Age))"
      ],
      "metadata": {
        "colab": {
          "base_uri": "https://localhost:8080/"
        },
        "id": "nxg8419p4oGy",
        "outputId": "24362614-8f7f-4e4a-bb55-3f928ead0d45"
      },
      "execution_count": null,
      "outputs": [
        {
          "output_type": "stream",
          "name": "stdout",
          "text": [
            "My name is Bappy and age is 32\n"
          ]
        }
      ]
    },
    {
      "cell_type": "code",
      "source": [
        "name=\"Bappy\"\n",
        "age=32\n",
        "degree=\"BE\""
      ],
      "metadata": {
        "id": "NzMjbNGi5mIG"
      },
      "execution_count": null,
      "outputs": []
    },
    {
      "cell_type": "code",
      "source": [
        "print(\"My age is {} and i have completed: my degree of {} with the name of {}\".format(age,degree,name))"
      ],
      "metadata": {
        "colab": {
          "base_uri": "https://localhost:8080/"
        },
        "id": "lztnBbBY6htW",
        "outputId": "4eb4b023-bd37-4a1e-f201-a491f7587b29"
      },
      "execution_count": null,
      "outputs": [
        {
          "output_type": "stream",
          "name": "stdout",
          "text": [
            "My age is 32 and i have completed: my degree of BE with the name of Bappy\n"
          ]
        }
      ]
    },
    {
      "cell_type": "code",
      "source": [
        "print(\"My age is {age} and i have completed: my degree of {degree} with the name of {name}\".format(age=age,degree=degree,name=name))"
      ],
      "metadata": {
        "colab": {
          "base_uri": "https://localhost:8080/"
        },
        "id": "9IHa1GZv7NwS",
        "outputId": "a07a718d-b932-4b79-9055-6e4f99dfe5de"
      },
      "execution_count": null,
      "outputs": [
        {
          "output_type": "stream",
          "name": "stdout",
          "text": [
            "My age is 32 and i have completed: my degree of BE with the name of Bappy\n"
          ]
        }
      ]
    },
    {
      "cell_type": "code",
      "source": [
        "## Control Flow\n",
        "## Decision Making statements: if, if else, if elif else, Nested if, single statement suites.\n"
      ],
      "metadata": {
        "id": "6wajRyML7o9s"
      },
      "execution_count": null,
      "outputs": []
    },
    {
      "cell_type": "code",
      "source": [
        "# if statement\n",
        "age=18\n",
        "if age>=18:\n",
        "  print(\"You are eligible to vote\")"
      ],
      "metadata": {
        "colab": {
          "base_uri": "https://localhost:8080/"
        },
        "id": "k2VPAzBz8GvV",
        "outputId": "75a47fbc-fab3-42bc-eb40-0c1482724fea"
      },
      "execution_count": null,
      "outputs": [
        {
          "output_type": "stream",
          "name": "stdout",
          "text": [
            "You are eligible to vote\n"
          ]
        }
      ]
    },
    {
      "cell_type": "code",
      "source": [
        "# if statement\n",
        "age=19\n",
        "if age<=18:\n",
        "  print(\"You are not eligible to vote\")"
      ],
      "metadata": {
        "id": "K_HbdIND9LNG"
      },
      "execution_count": null,
      "outputs": []
    },
    {
      "cell_type": "code",
      "source": [
        "age=int(input(\"Write your age\"))\n",
        "if age>=18:\n",
        "  print(\"You are eligible to vote\")\n",
        "else:\n",
        "  print(\"You are not eligible to vote\")\n"
      ],
      "metadata": {
        "colab": {
          "base_uri": "https://localhost:8080/"
        },
        "id": "GCloxhK99jf1",
        "outputId": "3da00d99-aa9c-417a-e242-2c14939e98a9"
      },
      "execution_count": null,
      "outputs": [
        {
          "output_type": "stream",
          "name": "stdout",
          "text": [
            "Write your age10\n",
            "You are not eligible to vote\n"
          ]
        }
      ]
    },
    {
      "cell_type": "code",
      "source": [
        "name=str(input())\n",
        "print(name)"
      ],
      "metadata": {
        "id": "EmoX3pZt-jbV",
        "colab": {
          "base_uri": "https://localhost:8080/"
        },
        "outputId": "1886087f-a3d0-451a-d65f-e72a1d37c70e"
      },
      "execution_count": 1,
      "outputs": [
        {
          "output_type": "stream",
          "name": "stdout",
          "text": [
            "bappy\n",
            "bappy\n"
          ]
        }
      ]
    },
    {
      "cell_type": "code",
      "source": [
        "age=int(input(\"Enter your age\"))\n",
        "if age>=18 and age<=50:\n",
        "  print(\"You are Young Blood\")\n",
        "else:\n",
        "  print(\"you are not young Blood\")"
      ],
      "metadata": {
        "colab": {
          "base_uri": "https://localhost:8080/"
        },
        "id": "aelKhfYQrv0o",
        "outputId": "32ea7d0a-00f3-439c-be69-55df26522434"
      },
      "execution_count": 4,
      "outputs": [
        {
          "output_type": "stream",
          "name": "stdout",
          "text": [
            "Enter your age60\n",
            "you are not young Blood\n"
          ]
        }
      ]
    },
    {
      "cell_type": "code",
      "source": [
        "product_price=int(input(\"Enter your product price\"))\n",
        "if product_price>1000:\n",
        "  print(\"The price of the product is {}\".format(product_price-(product_price*0.2)))\n",
        "else:\n",
        "  print(\"The price of the product is {}\".format(product_price*0.7))"
      ],
      "metadata": {
        "colab": {
          "base_uri": "https://localhost:8080/"
        },
        "id": "m2u7qvVjvkKh",
        "outputId": "266a1057-a2d5-4cbd-f739-d3b0958c4f06"
      },
      "execution_count": 6,
      "outputs": [
        {
          "output_type": "stream",
          "name": "stdout",
          "text": [
            "Enter your product price5000\n",
            "The price of the product is 4000.0\n"
          ]
        }
      ]
    },
    {
      "cell_type": "code",
      "source": [
        "product_price=int(input(\"Enter your product price\"))\n",
        "if product_price>1000:\n",
        "  print(f\"The price of the product is {product_price*0.8}\")\n",
        "else:\n",
        "  print(f\"The price of the product is {product_price*0.7}\")"
      ],
      "metadata": {
        "id": "g8qTUBkoz4oj"
      },
      "execution_count": null,
      "outputs": []
    },
    {
      "cell_type": "code",
      "source": [
        "product_price= int(input (\"Enter your product price\"))\n",
        "if product_price>3000:\n",
        "  print(f\"The price of the product is {product_price*0.8}\")\n",
        "elif product_price>=2000 and product_price<=300:\n",
        "  print(f\"The price of the product is {product_price*0.7}\")\n",
        "elif product_price>=100 and product_price<=2000:\n",
        "  print(f\"The price of the product is {product_price*0.6}\")\n",
        "else:\n",
        "  print(\"let`s drink tea\")"
      ],
      "metadata": {
        "id": "zkC0YinY1cZL"
      },
      "execution_count": null,
      "outputs": []
    },
    {
      "cell_type": "code",
      "source": [
        "product_price= int(input (\"Enter your product price\"))\n",
        "if product_price>3000:\n",
        "  print(f\"The price of the product is {product_price*0.8}\")\n",
        "elif product_price>=2000 and product_price<=3000:\n",
        "  if product_price==2999:\n",
        "    print(\"Cogratulation you are now eligible for additional gift\")\n",
        "  print(f\"The price of the product is {product_price*0.7}\")\n",
        "elif product_price>=100 and product_price<2000:\n",
        "  print(f\"The price of the product is {product_price*0.6}\")\n",
        "else:\n",
        "  print(\"let`s drink tea\")"
      ],
      "metadata": {
        "colab": {
          "base_uri": "https://localhost:8080/"
        },
        "id": "gFdmPEcs2c1C",
        "outputId": "78d49415-3be3-4241-9536-ec34ffedae38"
      },
      "execution_count": 32,
      "outputs": [
        {
          "output_type": "stream",
          "name": "stdout",
          "text": [
            "Enter your product price2000\n",
            "The price of the product is 1400.0\n"
          ]
        }
      ]
    },
    {
      "cell_type": "code",
      "source": [],
      "metadata": {
        "id": "HmGSF4zz9J4w"
      },
      "execution_count": null,
      "outputs": []
    }
  ]
}